{
 "cells": [
  {
   "cell_type": "code",
   "execution_count": null,
   "id": "d53fbf46-db6c-4fc4-ad28-a6179dad8227",
   "metadata": {},
   "outputs": [],
   "source": [
    "import numpy as np\n",
    "import pandas as pd"
   ]
  },
  {
   "cell_type": "code",
   "execution_count": null,
   "id": "287ca726-b0c6-4fdd-8f6c-852d756a6157",
   "metadata": {},
   "outputs": [],
   "source": [
    "xdata = np.random.uniform([-1.5,-1.0], [-0.1,1.0], [20,2])\n",
    "xdata.shape"
   ]
  },
  {
   "cell_type": "code",
   "execution_count": null,
   "id": "72c1c42c-57e0-45fe-a045-f69efe61ed6e",
   "metadata": {},
   "outputs": [],
   "source": [
    "tvec = -np.ones(20)\n",
    "xdata1 = np.random.uniform([0.1, -1.0], [1.5,1.0],[20,2])\n",
    "t1vec = np.ones(20)"
   ]
  },
  {
   "cell_type": "code",
   "execution_count": null,
   "id": "470e7e82-75aa-472a-8b36-d1d610bfdb6d",
   "metadata": {},
   "outputs": [],
   "source": [
    "print(tvec)"
   ]
  },
  {
   "cell_type": "code",
   "execution_count": null,
   "id": "8f9b327d-4628-4c84-b816-29431294e3af",
   "metadata": {},
   "outputs": [],
   "source": [
    "xData = np.concatenate((xdata, xdata1), axis=0)\n",
    "Tvec = np.concatenate((tvec, t1vec))"
   ]
  },
  {
   "cell_type": "code",
   "execution_count": null,
   "id": "c4576ed6-2c3f-45db-ae1e-1ecc7be6236c",
   "metadata": {},
   "outputs": [],
   "source": [
    "arr = np.array([[1,2,3],\n",
    "            [4,5,6]])\n",
    "brr = np.array([[11,12,13], [14,15,16]])\n",
    "brr"
   ]
  },
  {
   "cell_type": "code",
   "execution_count": null,
   "id": "465d23fb-05ca-44af-886e-961b0c1c2138",
   "metadata": {},
   "outputs": [],
   "source": [
    "crr = np.concatenate((arr,brr), axis=0)\n",
    "drr = np.concatenate((arr, brr), axis=1)"
   ]
  },
  {
   "cell_type": "code",
   "execution_count": null,
   "id": "090093ef-323e-44fc-b06b-4664aa0621f4",
   "metadata": {},
   "outputs": [],
   "source": [
    "crr"
   ]
  },
  {
   "cell_type": "code",
   "execution_count": null,
   "id": "764a1578-5021-4ae4-a932-4b687482dc83",
   "metadata": {},
   "outputs": [],
   "source": [
    "drr"
   ]
  },
  {
   "cell_type": "code",
   "execution_count": null,
   "id": "cf0d22fb-de57-4455-ac7c-abf4051c55c9",
   "metadata": {},
   "outputs": [],
   "source": [
    "#importing csv file with pandas\n",
    "import pandas as pd\n",
    "xdata0 = pd.read_csv(\"class0.txt\", header=None) #without the header=None, the program will make one of the row as header.\n",
    "xdata1 = pd.read_csv(\"class1.txt\", header=None)"
   ]
  },
  {
   "cell_type": "code",
   "execution_count": null,
   "id": "2e887a3b-8f7b-4fa3-8b30-77543b751a7c",
   "metadata": {},
   "outputs": [],
   "source": [
    "xdata0"
   ]
  },
  {
   "cell_type": "code",
   "execution_count": null,
   "id": "e2b3860d-51be-4393-a2c3-04bf366066be",
   "metadata": {},
   "outputs": [],
   "source": [
    "cdata0 = []\n",
    "for index, row in xdata0.iterrows():\n",
    "    cdata0.append([float(item) for item in row])\n",
    "xData2 = np.array(cdata0)"
   ]
  },
  {
   "cell_type": "code",
   "execution_count": null,
   "id": "a4981f7e-c9a6-4c2f-9ca0-544050a7d71d",
   "metadata": {},
   "outputs": [],
   "source": [
    "cdata1=[]\n",
    "for index, row in xdata1.iterrows():\n",
    "    cdata1.append([float(item) for item in row])\n",
    "xData3 = np.array(cdata1)"
   ]
  },
  {
   "cell_type": "code",
   "execution_count": null,
   "id": "2455ec97-18bc-4357-9e31-2b17ec161dbd",
   "metadata": {},
   "outputs": [],
   "source": [
    "xData.shape"
   ]
  },
  {
   "cell_type": "code",
   "execution_count": null,
   "id": "81653de8-7f09-4cf0-81e4-ec4edf182588",
   "metadata": {},
   "outputs": [],
   "source": [
    "tVec0 = -np.ones(len(cdata0))\n",
    "tVec1 = np.ones(len(cdata1))\n",
    "tVec = np.concatenate((tVec1, tVec0))"
   ]
  },
  {
   "cell_type": "code",
   "execution_count": null,
   "id": "6eda4ec3-7cf8-42bb-b5b0-a35e5ecc6a95",
   "metadata": {},
   "outputs": [],
   "source": [
    "DataX = np.concatenate((xData2, xData3), axis=0)"
   ]
  },
  {
   "cell_type": "code",
   "execution_count": null,
   "id": "5df2fd7b-7025-4ed4-92bb-03aad7fd9a59",
   "metadata": {},
   "outputs": [],
   "source": [
    "DataX"
   ]
  },
  {
   "cell_type": "code",
   "execution_count": null,
   "id": "ef1f3727-3c59-4dd1-8111-499bc9edf5f7",
   "metadata": {},
   "outputs": [],
   "source": [
    "len(DataX)"
   ]
  },
  {
   "cell_type": "code",
   "execution_count": null,
   "id": "df7fe11c-0925-4057-bcc3-355117f9210e",
   "metadata": {},
   "outputs": [],
   "source": [
    "shuffle_index = np.random.permutation(100)"
   ]
  },
  {
   "cell_type": "code",
   "execution_count": null,
   "id": "a415a3ac-f53d-4612-8b98-72051c42beb2",
   "metadata": {},
   "outputs": [],
   "source": [
    "DataX, tVec = DataX[shuffle_index], tVec[shuffle_index]"
   ]
  },
  {
   "cell_type": "code",
   "execution_count": null,
   "id": "15c5ab87-aeef-4e46-ad27-6546129371f2",
   "metadata": {},
   "outputs": [],
   "source": [
    "import sklearn\n",
    "from sklearn.linear_model import Perceptron\n",
    "classifier = Perceptron(tol=1e-3, random_state = 0)\n",
    "classifier.fit(DataX, tVec)"
   ]
  },
  {
   "cell_type": "code",
   "execution_count": null,
   "id": "2b64df41-fb23-40be-ae02-9d540601e906",
   "metadata": {},
   "outputs": [],
   "source": [
    "DataX.shape"
   ]
  },
  {
   "cell_type": "code",
   "execution_count": null,
   "id": "514f007b-9de6-4b3e-9cac-94460b539836",
   "metadata": {},
   "outputs": [],
   "source": [
    "classifier.coef_"
   ]
  },
  {
   "cell_type": "code",
   "execution_count": null,
   "id": "ad6ddd81-ed6e-4ac1-9a9e-bf5e3b06c1b8",
   "metadata": {},
   "outputs": [],
   "source": [
    "classifier.n_iter_"
   ]
  },
  {
   "cell_type": "code",
   "execution_count": null,
   "id": "df5338f4-99d2-4771-ad4d-7751b2d6bf40",
   "metadata": {},
   "outputs": [],
   "source": [
    "tVec.shape"
   ]
  },
  {
   "cell_type": "code",
   "execution_count": null,
   "id": "1e09ec5d-959e-4345-898a-ac9aa774db33",
   "metadata": {},
   "outputs": [],
   "source": [
    "from sklearn.model_selection import cross_val_score"
   ]
  },
  {
   "cell_type": "code",
   "execution_count": null,
   "id": "9744879a-b789-4b35-954a-7ac391038abc",
   "metadata": {},
   "outputs": [],
   "source": [
    "c_all = Perceptron(tol=1e-3, random_state=0)\n",
    "acc10 = np.average(cross_val_score(c_all, DataX, tVec, cv=4, scoring='accuracy'))"
   ]
  },
  {
   "cell_type": "code",
   "execution_count": null,
   "id": "945a1867-0101-4acb-ac55-82384e7921c6",
   "metadata": {},
   "outputs": [],
   "source": [
    "print(cross_val_score(c_all, DataX, tVec, cv=4, scoring='accuracy'))"
   ]
  },
  {
   "cell_type": "code",
   "execution_count": null,
   "id": "91baff2b-7573-4835-aa14-e4313a03bb80",
   "metadata": {},
   "outputs": [],
   "source": [
    "print(\"4-fold cross validation accuracy:\", acc10\n",
    "     )"
   ]
  },
  {
   "cell_type": "code",
   "execution_count": null,
   "id": "7de9d188-0c29-42cf-b40b-66d25a50fb11",
   "metadata": {},
   "outputs": [],
   "source": [
    "from sklearn.metrics import roc_auc_score"
   ]
  },
  {
   "cell_type": "code",
   "execution_count": null,
   "id": "6d52a60d-cc99-4174-a545-ccf5f5bef603",
   "metadata": {},
   "outputs": [],
   "source": [
    "#lets perform 4-fold cross validation prediction\n",
    "from sklearn.model_selection import cross_val_predict\n",
    "p4 = cross_val_predict(classifier, DataX, tVec, cv=4)"
   ]
  },
  {
   "cell_type": "code",
   "execution_count": null,
   "id": "39ffb090-42e0-4c38-96c3-91208486a552",
   "metadata": {},
   "outputs": [],
   "source": [
    "#random classifier\n",
    "rvec = np.where(np.random.randint(2, size=100)==0, -1,1)"
   ]
  },
  {
   "cell_type": "code",
   "execution_count": null,
   "id": "00eded4e-e432-4030-b27c-c0d9aea4b8b4",
   "metadata": {},
   "outputs": [],
   "source": [
    "from sklearn.metrics import precision_score, recall_score\n",
    "pscore = precision_score(tVec, p4)\n",
    "rscore = recall_score(tVec, p4)\n",
    "rp = precision_score(tVec, rvec)\n",
    "rr = recall_score(tVec, rvec)"
   ]
  },
  {
   "cell_type": "code",
   "execution_count": null,
   "id": "12f63218-fe9c-418e-a793-287a2a7710f0",
   "metadata": {},
   "outputs": [],
   "source": [
    "print(\"Precision:\", pscore, rp)\n",
    "print(\"Recall:\", rscore, rr)"
   ]
  },
  {
   "cell_type": "code",
   "execution_count": null,
   "id": "4f6cd017-14b3-4398-9ba5-368d8ae645dc",
   "metadata": {},
   "outputs": [],
   "source": [
    "auc = roc_auc_score(tVec, p4)\n",
    "rauc = roc_auc_score(tVec, rvec)"
   ]
  },
  {
   "cell_type": "code",
   "execution_count": null,
   "id": "504613fb-8b83-4239-a3b2-bf6d26b242d7",
   "metadata": {},
   "outputs": [],
   "source": [
    "import matplotlib.pyplot as plt"
   ]
  },
  {
   "cell_type": "code",
   "execution_count": null,
   "id": "8b711f9e-d7b9-40e3-83be-4db6d447c3a8",
   "metadata": {},
   "outputs": [],
   "source": [
    "X = DataX[:,2]"
   ]
  },
  {
   "cell_type": "code",
   "execution_count": null,
   "id": "74e3f147-56a1-4787-a4cb-b9c3d661ef87",
   "metadata": {},
   "outputs": [],
   "source": [
    "plt.scatter(DataX[:,0], DataX[:,1], color=('red'))\n",
    "plt.show()"
   ]
  },
  {
   "cell_type": "code",
   "execution_count": null,
   "id": "b789c880-5f18-4447-ac15-7bb0aac181bf",
   "metadata": {},
   "outputs": [],
   "source": [
    "plt.scatter(DataX[:,2], DataX[:,3],c=[[0.3, 0.8,1]])\n",
    "plt.show()"
   ]
  },
  {
   "cell_type": "code",
   "execution_count": null,
   "id": "8fac8a64-604a-4ec6-961b-a2d5eee15480",
   "metadata": {},
   "outputs": [],
   "source": [
    "X"
   ]
  },
  {
   "cell_type": "code",
   "execution_count": null,
   "id": "d1276a8a-5b6b-4992-80ca-c0ebcf126b75",
   "metadata": {},
   "outputs": [],
   "source": [
    "x0data = np.random.uniform([-1.5,-1.0], [-0.1, 1.0],[20,2])"
   ]
  },
  {
   "cell_type": "code",
   "execution_count": null,
   "id": "4d90b79a-40f2-4b01-b37e-30397e256e58",
   "metadata": {},
   "outputs": [],
   "source": [
    "x0data"
   ]
  },
  {
   "cell_type": "code",
   "execution_count": null,
   "id": "2ebc1a10-e796-4433-a6d8-62b2793334ea",
   "metadata": {},
   "outputs": [],
   "source": [
    "x0 = x0data[:,0]"
   ]
  },
  {
   "cell_type": "code",
   "execution_count": null,
   "id": "e025f978-80e7-4cdd-bf08-7157870e9215",
   "metadata": {},
   "outputs": [],
   "source": [
    "x0"
   ]
  },
  {
   "cell_type": "code",
   "execution_count": null,
   "id": "f9d81722-ca39-43b7-a235-12ac5b1df41b",
   "metadata": {},
   "outputs": [],
   "source": [
    "tscores = cross_val_predict(classifier, DataX, tVec, cv=4,\n",
    "method=\"decision_function\")\n",
    "from sklearn.metrics import precision_recall_curve\n",
    "precisions, recalls, thresholds = precision_recall_curve(tVec,\n",
    "tscores)\n",
    "def plot_precision_recall_vs_threshold(precisions, recalls,\n",
    "thresholds):\n",
    "    plt.plot(thresholds, precisions[:-1], \"b--\", label=\"Precision\")\n",
    "    plt.plot(thresholds, recalls[:-1], \"g-\", label=\"Recall\")\n",
    "    plt.xlabel(\"Threshold\")\n",
    "    plt.legend(loc=\"center left\")\n",
    "    plt.ylim([0,1.2])\n",
    "plot_precision_recall_vs_threshold(precisions, recalls, thresholds)\n",
    "plt.show()"
   ]
  },
  {
   "cell_type": "code",
   "execution_count": null,
   "id": "7553543d-7214-4339-9c97-240f351333d0",
   "metadata": {},
   "outputs": [],
   "source": []
  }
 ],
 "metadata": {
  "kernelspec": {
   "display_name": "Python 3 (ipykernel)",
   "language": "python",
   "name": "python3"
  },
  "language_info": {
   "codemirror_mode": {
    "name": "ipython",
    "version": 3
   },
   "file_extension": ".py",
   "mimetype": "text/x-python",
   "name": "python",
   "nbconvert_exporter": "python",
   "pygments_lexer": "ipython3",
   "version": "3.9.7"
  }
 },
 "nbformat": 4,
 "nbformat_minor": 5
}
